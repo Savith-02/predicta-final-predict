{
 "cells": [
  {
   "cell_type": "code",
   "execution_count": 2,
   "metadata": {},
   "outputs": [],
   "source": [
    "import pandas as pd\n",
    "import numpy as np\n",
    "from sklearn.preprocessing import StandardScaler\n",
    "from sklearn.model_selection import train_test_split\n",
    "import torch\n",
    "from torch.utils.data import DataLoader, TensorDataset"
   ]
  },
  {
   "cell_type": "code",
   "execution_count": 41,
   "metadata": {},
   "outputs": [],
   "source": [
    "data = pd.read_csv('./../derived_data_csv/new_features_added_min.csv')"
   ]
  },
  {
   "cell_type": "code",
   "execution_count": 42,
   "metadata": {},
   "outputs": [
    {
     "data": {
      "text/plain": [
       "Index(['city_id', 'date', 'avg_temp_c', 'min_temp_c', 'max_temp_c',\n",
       "       'precipitation_mm', 'snow_depth_mm', 'avg_wind_dir_deg',\n",
       "       'avg_wind_speed_kmh', 'day_of_week', 'day_of_year', 'month',\n",
       "       'temp_range'],\n",
       "      dtype='object')"
      ]
     },
     "execution_count": 42,
     "metadata": {},
     "output_type": "execute_result"
    }
   ],
   "source": [
    "data.columns"
   ]
  },
  {
   "cell_type": "code",
   "execution_count": 43,
   "metadata": {},
   "outputs": [],
   "source": [
    "# Python\n",
    "selected_columns_to_exclude = ['date', 'city_id',\n",
    "                               'snow_depth_mm']  # replace with your column names\n",
    "features = [col for col in data.columns if col not in selected_columns_to_exclude]\n",
    "\n",
    "target = 'avg_temp_c'\n",
    "\n",
    "# Scaling features\n",
    "scaler = StandardScaler()\n",
    "# Python\n",
    "numerical_features = data.select_dtypes(include=[np.number]).columns.tolist()\n",
    "data[numerical_features] = scaler.fit_transform(data[numerical_features])"
   ]
  },
  {
   "cell_type": "code",
   "execution_count": 44,
   "metadata": {},
   "outputs": [
    {
     "data": {
      "text/html": [
       "<div>\n",
       "<style scoped>\n",
       "    .dataframe tbody tr th:only-of-type {\n",
       "        vertical-align: middle;\n",
       "    }\n",
       "\n",
       "    .dataframe tbody tr th {\n",
       "        vertical-align: top;\n",
       "    }\n",
       "\n",
       "    .dataframe thead th {\n",
       "        text-align: right;\n",
       "    }\n",
       "</style>\n",
       "<table border=\"1\" class=\"dataframe\">\n",
       "  <thead>\n",
       "    <tr style=\"text-align: right;\">\n",
       "      <th></th>\n",
       "      <th>city_id</th>\n",
       "      <th>date</th>\n",
       "      <th>avg_temp_c</th>\n",
       "      <th>min_temp_c</th>\n",
       "      <th>max_temp_c</th>\n",
       "      <th>precipitation_mm</th>\n",
       "      <th>snow_depth_mm</th>\n",
       "      <th>avg_wind_dir_deg</th>\n",
       "      <th>avg_wind_speed_kmh</th>\n",
       "      <th>day_of_week</th>\n",
       "      <th>day_of_year</th>\n",
       "      <th>month</th>\n",
       "      <th>temp_range</th>\n",
       "    </tr>\n",
       "  </thead>\n",
       "  <tbody>\n",
       "    <tr>\n",
       "      <th>0</th>\n",
       "      <td>C001</td>\n",
       "      <td>2014-01-01</td>\n",
       "      <td>-1.266071</td>\n",
       "      <td>-1.601981</td>\n",
       "      <td>-1.176193</td>\n",
       "      <td>-1.0</td>\n",
       "      <td>-1.0</td>\n",
       "      <td>-0.072559</td>\n",
       "      <td>-0.828630</td>\n",
       "      <td>-0.500611</td>\n",
       "      <td>-1.727467</td>\n",
       "      <td>-1.601858</td>\n",
       "      <td>0.875295</td>\n",
       "    </tr>\n",
       "    <tr>\n",
       "      <th>1</th>\n",
       "      <td>C001</td>\n",
       "      <td>2014-01-02</td>\n",
       "      <td>-0.993418</td>\n",
       "      <td>-0.832364</td>\n",
       "      <td>-1.013461</td>\n",
       "      <td>-1.0</td>\n",
       "      <td>-1.0</td>\n",
       "      <td>-0.195858</td>\n",
       "      <td>-0.209017</td>\n",
       "      <td>-0.000590</td>\n",
       "      <td>-1.717983</td>\n",
       "      <td>-1.601858</td>\n",
       "      <td>-0.522623</td>\n",
       "    </tr>\n",
       "    <tr>\n",
       "      <th>2</th>\n",
       "      <td>C001</td>\n",
       "      <td>2014-01-03</td>\n",
       "      <td>-1.165089</td>\n",
       "      <td>-1.272145</td>\n",
       "      <td>-0.946454</td>\n",
       "      <td>-1.0</td>\n",
       "      <td>-1.0</td>\n",
       "      <td>-1.000000</td>\n",
       "      <td>-0.893852</td>\n",
       "      <td>0.499431</td>\n",
       "      <td>-1.708498</td>\n",
       "      <td>-1.601858</td>\n",
       "      <td>0.665607</td>\n",
       "    </tr>\n",
       "    <tr>\n",
       "      <th>3</th>\n",
       "      <td>C001</td>\n",
       "      <td>2014-01-04</td>\n",
       "      <td>-1.165089</td>\n",
       "      <td>-1.072245</td>\n",
       "      <td>-1.013461</td>\n",
       "      <td>-1.0</td>\n",
       "      <td>-1.0</td>\n",
       "      <td>1.094038</td>\n",
       "      <td>0.002955</td>\n",
       "      <td>0.999452</td>\n",
       "      <td>-1.699014</td>\n",
       "      <td>-1.601858</td>\n",
       "      <td>0.036544</td>\n",
       "    </tr>\n",
       "    <tr>\n",
       "      <th>4</th>\n",
       "      <td>C001</td>\n",
       "      <td>2014-01-05</td>\n",
       "      <td>-1.064106</td>\n",
       "      <td>-1.412076</td>\n",
       "      <td>-0.668852</td>\n",
       "      <td>-1.0</td>\n",
       "      <td>-1.0</td>\n",
       "      <td>-1.000000</td>\n",
       "      <td>-1.024297</td>\n",
       "      <td>1.499473</td>\n",
       "      <td>-1.689529</td>\n",
       "      <td>-1.601858</td>\n",
       "      <td>1.667449</td>\n",
       "    </tr>\n",
       "  </tbody>\n",
       "</table>\n",
       "</div>"
      ],
      "text/plain": [
       "  city_id        date  avg_temp_c  min_temp_c  max_temp_c  precipitation_mm  \\\n",
       "0    C001  2014-01-01   -1.266071   -1.601981   -1.176193              -1.0   \n",
       "1    C001  2014-01-02   -0.993418   -0.832364   -1.013461              -1.0   \n",
       "2    C001  2014-01-03   -1.165089   -1.272145   -0.946454              -1.0   \n",
       "3    C001  2014-01-04   -1.165089   -1.072245   -1.013461              -1.0   \n",
       "4    C001  2014-01-05   -1.064106   -1.412076   -0.668852              -1.0   \n",
       "\n",
       "   snow_depth_mm  avg_wind_dir_deg  avg_wind_speed_kmh  day_of_week  \\\n",
       "0           -1.0         -0.072559           -0.828630    -0.500611   \n",
       "1           -1.0         -0.195858           -0.209017    -0.000590   \n",
       "2           -1.0         -1.000000           -0.893852     0.499431   \n",
       "3           -1.0          1.094038            0.002955     0.999452   \n",
       "4           -1.0         -1.000000           -1.024297     1.499473   \n",
       "\n",
       "   day_of_year     month  temp_range  \n",
       "0    -1.727467 -1.601858    0.875295  \n",
       "1    -1.717983 -1.601858   -0.522623  \n",
       "2    -1.708498 -1.601858    0.665607  \n",
       "3    -1.699014 -1.601858    0.036544  \n",
       "4    -1.689529 -1.601858    1.667449  "
      ]
     },
     "execution_count": 44,
     "metadata": {},
     "output_type": "execute_result"
    }
   ],
   "source": [
    "# print(data[features].head())\n",
    "data = data.fillna(-1)\n",
    "data.head()"
   ]
  },
  {
   "cell_type": "code",
   "execution_count": 81,
   "metadata": {},
   "outputs": [],
   "source": [
    "# Create sequences for each city\n",
    "def create_sequences(df, features, target, seq_length=35, pred_length=7):\n",
    "    X = []\n",
    "    y = []\n",
    "    for i in range(len(df) - seq_length - pred_length + 1):\n",
    "        X.append(df[features].iloc[i:i+seq_length].values)\n",
    "        y.append(df[target].iloc[i+seq_length:i+seq_length+pred_length].values)\n",
    "    return np.array(X), np.array(y)\n",
    "\n",
    "\n",
    "# Split data by city and create sequences\n",
    "city_data = data.groupby('city_id')\n",
    "X_list = []\n",
    "y_list = []\n",
    "X_list_final = []\n",
    "last_dates = []\n",
    "seq_length = 35\n",
    "for i, (_, group) in enumerate(city_data):\n",
    "    if i == 5:  # stop after processing 5 cities\n",
    "        break\n",
    "    X, y = create_sequences(group, features, target, seq_length=seq_length)\n",
    "    X_list.append(X)\n",
    "    y_list.append(y)\n",
    "    X_last = group[features].iloc[-seq_length:].values\n",
    "    X_list_final.append(X_last)"
   ]
  },
  {
   "cell_type": "code",
   "execution_count": 48,
   "metadata": {},
   "outputs": [
    {
     "name": "stdout",
     "output_type": "stream",
     "text": [
      "5\n",
      "5\n",
      "1785\n",
      "1785\n",
      "[1785, 1762, 1782, 1785, 1785]\n",
      "35\n"
     ]
    }
   ],
   "source": [
    "print(len(X_list))\n",
    "print(len(y_list))\n",
    "print(len(X_list[0]))\n",
    "print(len(y_list[0]))\n",
    "lengths = [len(element) for element in X_list]\n",
    "print(lengths)\n",
    "print(len(X_list[0][0]))"
   ]
  },
  {
   "cell_type": "code",
   "execution_count": 66,
   "metadata": {},
   "outputs": [],
   "source": [
    "import torch\n",
    "import torch.nn as nn\n",
    "import torch.optim as optim\n",
    "from torch.utils.data import Dataset, DataLoader, TensorDataset\n",
    "from matplotlib import pyplot as plt"
   ]
  },
  {
   "cell_type": "code",
   "execution_count": 101,
   "metadata": {},
   "outputs": [
    {
     "name": "stdout",
     "output_type": "stream",
     "text": [
      "(8899, 35, 10)\n",
      "(5, 35, 10)\n"
     ]
    }
   ],
   "source": [
    "print(np.concatenate(X_list, axis=0).shape)\n",
    "print(np.array(X_list_final).shape)"
   ]
  },
  {
   "cell_type": "code",
   "execution_count": 58,
   "metadata": {},
   "outputs": [],
   "source": [
    "\n",
    "X = np.concatenate(X_list, axis=0)\n",
    "y = np.concatenate(y_list, axis=0)\n",
    "\n",
    "# Split into train and test sets\n",
    "X_train, X_test, y_train, y_test = train_test_split(\n",
    "    X, y, test_size=0.2, random_state=42)\n",
    "\n",
    "# Convert to PyTorch tensors\n",
    "X_train_tensor = torch.tensor(X_train, dtype=torch.float32)\n",
    "y_train_tensor = torch.tensor(y_train, dtype=torch.float32)\n",
    "X_test_tensor = torch.tensor(X_test, dtype=torch.float32)\n",
    "y_test_tensor = torch.tensor(y_test, dtype=torch.float32)\n",
    "\n",
    "# Create DataLoader\n",
    "train_dataset = TensorDataset(X_train_tensor, y_train_tensor)\n",
    "test_dataset = TensorDataset(X_test_tensor, y_test_tensor)\n",
    "train_loader = DataLoader(train_dataset, batch_size=32, shuffle=True)\n",
    "test_loader = DataLoader(test_dataset, batch_size=32, shuffle=False)"
   ]
  },
  {
   "cell_type": "code",
   "execution_count": 102,
   "metadata": {},
   "outputs": [],
   "source": [
    "# Convert to PyTorch tensors\n",
    "X_predict_tensor = torch.tensor(X_list_final, dtype=torch.float32)\n",
    "predict_dataset = TensorDataset(X_predict_tensor)\n",
    "predict_loader = DataLoader(predict_dataset, batch_size=1, shuffle=False)"
   ]
  },
  {
   "cell_type": "code",
   "execution_count": 103,
   "metadata": {},
   "outputs": [
    {
     "name": "stdout",
     "output_type": "stream",
     "text": [
      "Train Inputs Shape: torch.Size([32, 35, 10]), Train Targets Shape: torch.Size([32, 7])\n",
      "Test Inputs Shape: torch.Size([32, 35, 10]), Test Targets Shape: torch.Size([32, 7])\n",
      "Predict Inputs Shape: torch.Size([1, 35, 10])\n"
     ]
    }
   ],
   "source": [
    "# For the train loader\n",
    "for i, (inputs, targets) in enumerate(train_loader):\n",
    "    if i == 1:\n",
    "        break\n",
    "    print(f'Train Inputs Shape: {inputs.shape}, Train Targets Shape: {targets.shape}')\n",
    "# For the test loader\n",
    "for i, (inputs, targets) in enumerate(test_loader):\n",
    "    if i == 1:\n",
    "        break\n",
    "    print(f'Test Inputs Shape: {inputs.shape}, Test Targets Shape: {targets.shape}')\n",
    "for i, (inputs,) in enumerate(predict_loader):\n",
    "    if i == 1:\n",
    "        break\n",
    "    print(f'Predict Inputs Shape: {inputs.shape}')"
   ]
  },
  {
   "cell_type": "code",
   "execution_count": 61,
   "metadata": {},
   "outputs": [],
   "source": [
    "class LSTMModel(nn.Module):\n",
    "    def __init__(self, input_size, hidden_layer_size, output_size, num_layers, dropout):\n",
    "        super(LSTMModel, self).__init__()\n",
    "        self.hidden_layer_size = hidden_layer_size\n",
    "        self.num_layers = num_layers\n",
    "\n",
    "        self.lstm = nn.LSTM(input_size, hidden_layer_size,\n",
    "                            num_layers=num_layers, dropout=dropout, batch_first=True)\n",
    "        self.fc = nn.Linear(hidden_layer_size, output_size)\n",
    "\n",
    "    def forward(self, x):\n",
    "        h0 = torch.zeros(self.num_layers, x.size(\n",
    "            0), self.hidden_layer_size).to(x.device)\n",
    "        c0 = torch.zeros(self.num_layers, x.size(\n",
    "            0), self.hidden_layer_size).to(x.device)\n",
    "\n",
    "        out, _ = self.lstm(x, (h0, c0))\n",
    "        out = self.fc(out[:, -1, :])\n",
    "        return out\n",
    "\n",
    "\n",
    "# Define model, loss function, and optimizer\n",
    "input_size = len(features)\n",
    "hidden_layer_size = 64\n",
    "output_size = 7\n",
    "num_layers = 2\n",
    "dropout = 0.5\n",
    "\n",
    "model = LSTMModel(input_size, hidden_layer_size,\n",
    "                  output_size, num_layers, dropout)\n",
    "loss_function = nn.MSELoss()\n",
    "optimizer = torch.optim.Adam(model.parameters(), lr=0.001, weight_decay=0.0001)"
   ]
  },
  {
   "cell_type": "code",
   "execution_count": 62,
   "metadata": {},
   "outputs": [],
   "source": [
    "def train_model(model, criterion, optimizer, dataloader):\n",
    "    model.train()\n",
    "    total_loss = 0\n",
    "\n",
    "    for data, target in dataloader:\n",
    "        optimizer.zero_grad()\n",
    "        output = model(data)\n",
    "        loss = criterion(output, target)\n",
    "        loss.backward()\n",
    "        optimizer.step()\n",
    "        total_loss += loss.item()\n",
    "    return total_loss / len(dataloader)"
   ]
  },
  {
   "cell_type": "code",
   "execution_count": 63,
   "metadata": {},
   "outputs": [],
   "source": [
    "def evaluate_model(model, criterion, dataloader):\n",
    "    model.eval()\n",
    "    total_loss = 0\n",
    "\n",
    "    with torch.no_grad():\n",
    "        for data, target in dataloader:\n",
    "            output = model(data)\n",
    "            loss = criterion(output, target)\n",
    "            total_loss += loss.item()\n",
    "\n",
    "    return total_loss / len(dataloader)"
   ]
  },
  {
   "cell_type": "code",
   "execution_count": 73,
   "metadata": {},
   "outputs": [],
   "source": [
    "def model_fit(model, criterion, optimizer, train_dataloader, test_dataloader, num_epochs=25, patience=10, checkpoint=40):\n",
    "    train_losses = []\n",
    "    test_losses = []\n",
    "\n",
    "    best_test_loss = float('inf')\n",
    "    patience_counter = 0\n",
    "\n",
    "    for epoch in range(num_epochs):\n",
    "        train_loss = train_model(\n",
    "            model, criterion, optimizer, train_dataloader)\n",
    "        test_loss = evaluate_model(\n",
    "            model, criterion, test_dataloader)\n",
    "\n",
    "        train_losses.append(train_loss)\n",
    "        test_losses.append(test_loss)\n",
    "\n",
    "        if test_loss < best_test_loss:\n",
    "            best_test_loss = test_loss\n",
    "            patience_counter = 0\n",
    "        else:\n",
    "            patience_counter += 1\n",
    "        if (epoch + 1) % checkpoint == 0:\n",
    "            print(f\"Epoch {epoch+1}/{num_epochs}: Train Loss = {train_loss:.4f}, Test Loss = {test_loss:.4f}\")\n",
    "\n",
    "        if patience_counter >= patience:\n",
    "            print(\"Early stopping triggered\")\n",
    "            break\n",
    "\n",
    "    return model, train_losses, test_losses"
   ]
  },
  {
   "cell_type": "code",
   "execution_count": 74,
   "metadata": {},
   "outputs": [],
   "source": [
    "def plot_losses(train_losses, test_losses, figsize=(6, 3)):\n",
    "    plt.figure(figsize=figsize)\n",
    "    plt.plot(train_losses, label='Train Loss')\n",
    "    plt.plot(test_losses, label='Test Loss')\n",
    "    plt.title('Losses')\n",
    "    plt.xlabel('Epoch')\n",
    "    plt.ylabel('Loss')\n",
    "    plt.legend()\n",
    "    plt.show()"
   ]
  },
  {
   "cell_type": "code",
   "execution_count": 76,
   "metadata": {},
   "outputs": [
    {
     "name": "stdout",
     "output_type": "stream",
     "text": [
      "Epoch 5/100: Train Loss = 0.0544, Test Loss = 0.0540\n",
      "Epoch 10/100: Train Loss = 0.0516, Test Loss = 0.0520\n",
      "Epoch 15/100: Train Loss = 0.0489, Test Loss = 0.0491\n",
      "Epoch 20/100: Train Loss = 0.0470, Test Loss = 0.0470\n",
      "Epoch 25/100: Train Loss = 0.0444, Test Loss = 0.0432\n",
      "Epoch 30/100: Train Loss = 0.0420, Test Loss = 0.0412\n",
      "Epoch 35/100: Train Loss = 0.0409, Test Loss = 0.0404\n",
      "Epoch 40/100: Train Loss = 0.0388, Test Loss = 0.0386\n",
      "Epoch 45/100: Train Loss = 0.0387, Test Loss = 0.0386\n",
      "Epoch 50/100: Train Loss = 0.0363, Test Loss = 0.0359\n",
      "Epoch 55/100: Train Loss = 0.0357, Test Loss = 0.0356\n",
      "Epoch 60/100: Train Loss = 0.0349, Test Loss = 0.0357\n",
      "Early stopping triggered\n"
     ]
    },
    {
     "data": {
      "image/png": "[encoded data removed]",
      "text/plain": [
       "<Figure size 600x300 with 1 Axes>"
      ]
     },
     "metadata": {},
     "output_type": "display_data"
    }
   ],
   "source": [
    "model, train_losses, test_losses = model_fit(\n",
    "    model, loss_function, optimizer, train_loader, test_loader, num_epochs=100, checkpoint=5, patience=5)\n",
    "plot_losses(train_losses, test_losses)"
   ]
  },
  {
   "cell_type": "code",
   "execution_count": 130,
   "metadata": {},
   "outputs": [],
   "source": [
    "from datetime import datetime, timedelta\n",
    "\n",
    "# Initialize an empty DataFrame\n",
    "submission_df = pd.DataFrame(\n",
    "    columns=['submission_ID', 'city_id', 'date', \"avg_temp_c\"])\n",
    "# Initialize an non-empty DataFrame\n",
    "submission_df = pd.DataFrame(\n",
    "    {'submission_ID': [0], 'city_id': ['C000'], 'date': [datetime.strptime('2019-01-01', '%Y-%m-%d')], \"avg_temp_c\": [0.0]})\n",
    "\n",
    "# Initialize the submission ID\n",
    "submission_ID = 1\n",
    "date = datetime.strptime('2019-01-01', '%Y-%m-%d')\n",
    "# Iterate over the list of sequences\n",
    "for i, (inputs,) in enumerate(predict_loader):    \n",
    "    # Generate the city_id\n",
    "    city_id = 'C' + str(i+1).zfill(3)\n",
    "\n",
    "    # Use the model to predict the next 14 days\n",
    "    predictions = model(inputs)\n",
    "    predictions = predictions.detach().numpy().flatten()\n",
    "    # For each day in the prediction\n",
    "    for j in range(7):\n",
    "        # Append a new row to the DataFrame\n",
    "        new_entry = pd.DataFrame(\n",
    "            {'submission_ID': [submission_ID], 'city_id': [city_id], 'date': [date], \"avg_temp_c\": [predictions[j]]}, index=[0])\n",
    "        submission_df = pd.concat([submission_df, new_entry], ignore_index=True)\n",
    "        # Increment the submission ID\n",
    "        date += timedelta(days=1)\n",
    "        submission_ID += 1\n",
    "    date = datetime.strptime('2019-01-01', '%Y-%m-%d')\n",
    "# Drop the initial row\n",
    "submission_df = submission_df.iloc[1:]"
   ]
  },
  {
   "cell_type": "code",
   "execution_count": 131,
   "metadata": {},
   "outputs": [
    {
     "name": "stdout",
     "output_type": "stream",
     "text": [
      "    submission_ID city_id       date  avg_temp_c\n",
      "1               1    C001 2019-01-01   -0.694077\n",
      "2               2    C001 2019-01-02   -0.594138\n",
      "3               3    C001 2019-01-03   -0.542195\n",
      "4               4    C001 2019-01-04   -0.545855\n",
      "5               5    C001 2019-01-05   -0.595523\n",
      "6               6    C001 2019-01-06   -0.695018\n",
      "7               7    C001 2019-01-07   -0.812104\n",
      "8               8    C002 2019-01-01   -0.493930\n",
      "9               9    C002 2019-01-02   -0.498740\n",
      "10             10    C002 2019-01-03   -0.540514\n",
      "11             11    C002 2019-01-04   -0.569864\n",
      "12             12    C002 2019-01-05   -0.587256\n",
      "13             13    C002 2019-01-06   -0.615226\n",
      "14             14    C002 2019-01-07   -0.639478\n",
      "15             15    C003 2019-01-01    0.806349\n",
      "16             16    C003 2019-01-02    0.834389\n",
      "17             17    C003 2019-01-03    0.851547\n",
      "18             18    C003 2019-01-04    0.866967\n",
      "19             19    C003 2019-01-05    0.843815\n",
      "20             20    C003 2019-01-06    0.816503\n",
      "21             21    C003 2019-01-07    0.813030\n",
      "22             22    C004 2019-01-01   -2.061097\n",
      "23             23    C004 2019-01-02   -2.293061\n",
      "24             24    C004 2019-01-03   -2.345207\n",
      "25             25    C004 2019-01-04   -2.303498\n",
      "26             26    C004 2019-01-05   -2.125276\n",
      "27             27    C004 2019-01-06   -2.020026\n",
      "28             28    C004 2019-01-07   -1.910298\n",
      "29             29    C005 2019-01-01    0.544477\n",
      "30             30    C005 2019-01-02    0.499408\n",
      "31             31    C005 2019-01-03    0.461332\n",
      "32             32    C005 2019-01-04    0.459133\n",
      "33             33    C005 2019-01-05    0.449836\n",
      "34             34    C005 2019-01-06    0.457924\n",
      "35             35    C005 2019-01-07    0.482693\n"
     ]
    }
   ],
   "source": [
    "print(submission_df)"
   ]
  },
  {
   "cell_type": "code",
   "execution_count": null,
   "metadata": {},
   "outputs": [],
   "source": []
  }
 ],
 "metadata": {
  "kernelspec": {
   "display_name": "Python 3",
   "language": "python",
   "name": "python3"
  },
  "language_info": {
   "codemirror_mode": {
    "name": "ipython",
    "version": 3
   },
   "file_extension": ".py",
   "mimetype": "text/x-python",
   "name": "python",
   "nbconvert_exporter": "python",
   "pygments_lexer": "ipython3",
   "version": "3.12.1"
  }
 },
 "nbformat": 4,
 "nbformat_minor": 2
}
